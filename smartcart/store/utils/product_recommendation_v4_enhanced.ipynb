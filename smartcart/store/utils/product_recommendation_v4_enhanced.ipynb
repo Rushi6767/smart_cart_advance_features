{
 "cells": [
  {
   "cell_type": "code",
   "execution_count": 1,
   "metadata": {
    "vscode": {
     "languageId": "plaintext"
    }
   },
   "outputs": [],
   "source": [
    "import numpy as np\n",
    "import pandas as pd\n",
    "from sklearn.feature_extraction.text import TfidfVectorizer\n",
    "from sklearn.metrics.pairwise import cosine_similarity\n",
    "from sklearn.decomposition import TruncatedSVD\n",
    "import re\n",
    "from IPython.display import Image, display\n",
    "import warnings\n",
    "warnings.filterwarnings('ignore')"
   ]
  },
  {
   "cell_type": "code",
   "execution_count": 2,
   "metadata": {},
   "outputs": [
    {
     "data": {
      "text/html": [
       "<div>\n",
       "<style scoped>\n",
       "    .dataframe tbody tr th:only-of-type {\n",
       "        vertical-align: middle;\n",
       "    }\n",
       "\n",
       "    .dataframe tbody tr th {\n",
       "        vertical-align: top;\n",
       "    }\n",
       "\n",
       "    .dataframe thead th {\n",
       "        text-align: right;\n",
       "    }\n",
       "</style>\n",
       "<table border=\"1\" class=\"dataframe\">\n",
       "  <thead>\n",
       "    <tr style=\"text-align: right;\">\n",
       "      <th></th>\n",
       "      <th>id</th>\n",
       "      <th>gender</th>\n",
       "      <th>masterCategory</th>\n",
       "      <th>subCategory</th>\n",
       "      <th>articleType</th>\n",
       "      <th>baseColour</th>\n",
       "      <th>season</th>\n",
       "      <th>year</th>\n",
       "      <th>usage</th>\n",
       "      <th>productDisplayName</th>\n",
       "      <th>filename</th>\n",
       "      <th>link</th>\n",
       "      <th>image_url</th>\n",
       "    </tr>\n",
       "  </thead>\n",
       "  <tbody>\n",
       "    <tr>\n",
       "      <th>0</th>\n",
       "      <td>15970</td>\n",
       "      <td>Men</td>\n",
       "      <td>Apparel</td>\n",
       "      <td>Topwear</td>\n",
       "      <td>Shirts</td>\n",
       "      <td>Navy Blue</td>\n",
       "      <td>Fall</td>\n",
       "      <td>2011.0</td>\n",
       "      <td>Casual</td>\n",
       "      <td>Turtle Check Men Navy Blue Shirt</td>\n",
       "      <td>15970.jpg</td>\n",
       "      <td>http://assets.myntassets.com/v1/images/style/p...</td>\n",
       "      <td>http://assets.myntassets.com/v1/images/style/p...</td>\n",
       "    </tr>\n",
       "    <tr>\n",
       "      <th>1</th>\n",
       "      <td>39386</td>\n",
       "      <td>Men</td>\n",
       "      <td>Apparel</td>\n",
       "      <td>Bottomwear</td>\n",
       "      <td>Jeans</td>\n",
       "      <td>Blue</td>\n",
       "      <td>Summer</td>\n",
       "      <td>2012.0</td>\n",
       "      <td>Casual</td>\n",
       "      <td>Peter England Men Party Blue Jeans</td>\n",
       "      <td>39386.jpg</td>\n",
       "      <td>http://assets.myntassets.com/v1/images/style/p...</td>\n",
       "      <td>http://assets.myntassets.com/v1/images/style/p...</td>\n",
       "    </tr>\n",
       "  </tbody>\n",
       "</table>\n",
       "</div>"
      ],
      "text/plain": [
       "      id gender masterCategory subCategory articleType baseColour  season  \\\n",
       "0  15970    Men        Apparel     Topwear      Shirts  Navy Blue    Fall   \n",
       "1  39386    Men        Apparel  Bottomwear       Jeans       Blue  Summer   \n",
       "\n",
       "     year   usage                  productDisplayName   filename  \\\n",
       "0  2011.0  Casual    Turtle Check Men Navy Blue Shirt  15970.jpg   \n",
       "1  2012.0  Casual  Peter England Men Party Blue Jeans  39386.jpg   \n",
       "\n",
       "                                                link  \\\n",
       "0  http://assets.myntassets.com/v1/images/style/p...   \n",
       "1  http://assets.myntassets.com/v1/images/style/p...   \n",
       "\n",
       "                                           image_url  \n",
       "0  http://assets.myntassets.com/v1/images/style/p...  \n",
       "1  http://assets.myntassets.com/v1/images/style/p...  "
      ]
     },
     "execution_count": 2,
     "metadata": {},
     "output_type": "execute_result"
    }
   ],
   "source": [
    "# Load data\n",
    "styles = pd.read_csv('styles.csv', on_bad_lines='skip')\n",
    "images = pd.read_csv('images.csv')\n",
    "images['id'] = images['filename'].str.replace('.jpg', '', regex=False).astype(int)\n",
    "df = pd.merge(styles, images, on='id')\n",
    "df.dropna(subset=['productDisplayName', 'gender', 'masterCategory', 'subCategory', 'articleType', 'baseColour', 'season', 'usage', 'link'], inplace=True)\n",
    "df['image_url'] = df['link']\n",
    "df.reset_index(drop=True, inplace=True)\n",
    "df.head(2)"
   ]
  },
  {
   "cell_type": "code",
   "execution_count": 3,
   "metadata": {},
   "outputs": [
    {
     "data": {
      "text/html": [
       "<div>\n",
       "<style scoped>\n",
       "    .dataframe tbody tr th:only-of-type {\n",
       "        vertical-align: middle;\n",
       "    }\n",
       "\n",
       "    .dataframe tbody tr th {\n",
       "        vertical-align: top;\n",
       "    }\n",
       "\n",
       "    .dataframe thead th {\n",
       "        text-align: right;\n",
       "    }\n",
       "</style>\n",
       "<table border=\"1\" class=\"dataframe\">\n",
       "  <thead>\n",
       "    <tr style=\"text-align: right;\">\n",
       "      <th></th>\n",
       "      <th>id</th>\n",
       "      <th>gender</th>\n",
       "      <th>masterCategory</th>\n",
       "      <th>subCategory</th>\n",
       "      <th>articleType</th>\n",
       "      <th>baseColour</th>\n",
       "      <th>season</th>\n",
       "      <th>year</th>\n",
       "      <th>usage</th>\n",
       "      <th>productDisplayName</th>\n",
       "      <th>...</th>\n",
       "      <th>link</th>\n",
       "      <th>image_url</th>\n",
       "      <th>productDisplayName_proc</th>\n",
       "      <th>gender_proc</th>\n",
       "      <th>masterCategory_proc</th>\n",
       "      <th>subCategory_proc</th>\n",
       "      <th>articleType_proc</th>\n",
       "      <th>baseColour_proc</th>\n",
       "      <th>season_proc</th>\n",
       "      <th>usage_proc</th>\n",
       "    </tr>\n",
       "  </thead>\n",
       "  <tbody>\n",
       "    <tr>\n",
       "      <th>0</th>\n",
       "      <td>15970</td>\n",
       "      <td>Men</td>\n",
       "      <td>Apparel</td>\n",
       "      <td>Topwear</td>\n",
       "      <td>Shirts</td>\n",
       "      <td>Navy Blue</td>\n",
       "      <td>Fall</td>\n",
       "      <td>2011.0</td>\n",
       "      <td>Casual</td>\n",
       "      <td>Turtle Check Men Navy Blue Shirt</td>\n",
       "      <td>...</td>\n",
       "      <td>http://assets.myntassets.com/v1/images/style/p...</td>\n",
       "      <td>http://assets.myntassets.com/v1/images/style/p...</td>\n",
       "      <td>turtle check men navy blue shirt</td>\n",
       "      <td>men</td>\n",
       "      <td>apparel</td>\n",
       "      <td>topwear</td>\n",
       "      <td>shirts</td>\n",
       "      <td>navy blue</td>\n",
       "      <td>fall</td>\n",
       "      <td>casual</td>\n",
       "    </tr>\n",
       "    <tr>\n",
       "      <th>1</th>\n",
       "      <td>39386</td>\n",
       "      <td>Men</td>\n",
       "      <td>Apparel</td>\n",
       "      <td>Bottomwear</td>\n",
       "      <td>Jeans</td>\n",
       "      <td>Blue</td>\n",
       "      <td>Summer</td>\n",
       "      <td>2012.0</td>\n",
       "      <td>Casual</td>\n",
       "      <td>Peter England Men Party Blue Jeans</td>\n",
       "      <td>...</td>\n",
       "      <td>http://assets.myntassets.com/v1/images/style/p...</td>\n",
       "      <td>http://assets.myntassets.com/v1/images/style/p...</td>\n",
       "      <td>peter england men party blue jeans</td>\n",
       "      <td>men</td>\n",
       "      <td>apparel</td>\n",
       "      <td>bottomwear</td>\n",
       "      <td>jeans</td>\n",
       "      <td>blue</td>\n",
       "      <td>summer</td>\n",
       "      <td>casual</td>\n",
       "    </tr>\n",
       "  </tbody>\n",
       "</table>\n",
       "<p>2 rows × 21 columns</p>\n",
       "</div>"
      ],
      "text/plain": [
       "      id gender masterCategory subCategory articleType baseColour  season  \\\n",
       "0  15970    Men        Apparel     Topwear      Shirts  Navy Blue    Fall   \n",
       "1  39386    Men        Apparel  Bottomwear       Jeans       Blue  Summer   \n",
       "\n",
       "     year   usage                  productDisplayName  ...  \\\n",
       "0  2011.0  Casual    Turtle Check Men Navy Blue Shirt  ...   \n",
       "1  2012.0  Casual  Peter England Men Party Blue Jeans  ...   \n",
       "\n",
       "                                                link  \\\n",
       "0  http://assets.myntassets.com/v1/images/style/p...   \n",
       "1  http://assets.myntassets.com/v1/images/style/p...   \n",
       "\n",
       "                                           image_url  \\\n",
       "0  http://assets.myntassets.com/v1/images/style/p...   \n",
       "1  http://assets.myntassets.com/v1/images/style/p...   \n",
       "\n",
       "              productDisplayName_proc gender_proc masterCategory_proc  \\\n",
       "0    turtle check men navy blue shirt         men             apparel   \n",
       "1  peter england men party blue jeans         men             apparel   \n",
       "\n",
       "  subCategory_proc articleType_proc baseColour_proc season_proc usage_proc  \n",
       "0          topwear           shirts       navy blue        fall     casual  \n",
       "1       bottomwear            jeans            blue      summer     casual  \n",
       "\n",
       "[2 rows x 21 columns]"
      ]
     },
     "execution_count": 3,
     "metadata": {},
     "output_type": "execute_result"
    }
   ],
   "source": [
    "# Text preprocessing\n",
    "def preprocess_text(text):\n",
    "    if pd.isna(text):\n",
    "        return ''\n",
    "    text = str(text).lower()\n",
    "    text = re.sub(r'[^a-z0-9 ]', ' ', text)\n",
    "    text = ' '.join(text.split())\n",
    "    return text\n",
    "for col in ['productDisplayName', 'gender', 'masterCategory', 'subCategory', 'articleType', 'baseColour', 'season', 'usage']:\n",
    "    df[col + '_proc'] = df[col].apply(preprocess_text)\n",
    "df.head(2)"
   ]
  },
  {
   "cell_type": "code",
   "execution_count": 4,
   "metadata": {},
   "outputs": [
    {
     "data": {
      "text/html": [
       "<div>\n",
       "<style scoped>\n",
       "    .dataframe tbody tr th:only-of-type {\n",
       "        vertical-align: middle;\n",
       "    }\n",
       "\n",
       "    .dataframe tbody tr th {\n",
       "        vertical-align: top;\n",
       "    }\n",
       "\n",
       "    .dataframe thead th {\n",
       "        text-align: right;\n",
       "    }\n",
       "</style>\n",
       "<table border=\"1\" class=\"dataframe\">\n",
       "  <thead>\n",
       "    <tr style=\"text-align: right;\">\n",
       "      <th></th>\n",
       "      <th>id</th>\n",
       "      <th>gender</th>\n",
       "      <th>masterCategory</th>\n",
       "      <th>subCategory</th>\n",
       "      <th>articleType</th>\n",
       "      <th>baseColour</th>\n",
       "      <th>season</th>\n",
       "      <th>year</th>\n",
       "      <th>usage</th>\n",
       "      <th>productDisplayName</th>\n",
       "      <th>...</th>\n",
       "      <th>image_url</th>\n",
       "      <th>productDisplayName_proc</th>\n",
       "      <th>gender_proc</th>\n",
       "      <th>masterCategory_proc</th>\n",
       "      <th>subCategory_proc</th>\n",
       "      <th>articleType_proc</th>\n",
       "      <th>baseColour_proc</th>\n",
       "      <th>season_proc</th>\n",
       "      <th>usage_proc</th>\n",
       "      <th>combined</th>\n",
       "    </tr>\n",
       "  </thead>\n",
       "  <tbody>\n",
       "    <tr>\n",
       "      <th>0</th>\n",
       "      <td>15970</td>\n",
       "      <td>Men</td>\n",
       "      <td>Apparel</td>\n",
       "      <td>Topwear</td>\n",
       "      <td>Shirts</td>\n",
       "      <td>Navy Blue</td>\n",
       "      <td>Fall</td>\n",
       "      <td>2011.0</td>\n",
       "      <td>Casual</td>\n",
       "      <td>Turtle Check Men Navy Blue Shirt</td>\n",
       "      <td>...</td>\n",
       "      <td>http://assets.myntassets.com/v1/images/style/p...</td>\n",
       "      <td>turtle check men navy blue shirt</td>\n",
       "      <td>men</td>\n",
       "      <td>apparel</td>\n",
       "      <td>topwear</td>\n",
       "      <td>shirts</td>\n",
       "      <td>navy blue</td>\n",
       "      <td>fall</td>\n",
       "      <td>casual</td>\n",
       "      <td>turtle check men navy blue shirt turtle check ...</td>\n",
       "    </tr>\n",
       "    <tr>\n",
       "      <th>1</th>\n",
       "      <td>39386</td>\n",
       "      <td>Men</td>\n",
       "      <td>Apparel</td>\n",
       "      <td>Bottomwear</td>\n",
       "      <td>Jeans</td>\n",
       "      <td>Blue</td>\n",
       "      <td>Summer</td>\n",
       "      <td>2012.0</td>\n",
       "      <td>Casual</td>\n",
       "      <td>Peter England Men Party Blue Jeans</td>\n",
       "      <td>...</td>\n",
       "      <td>http://assets.myntassets.com/v1/images/style/p...</td>\n",
       "      <td>peter england men party blue jeans</td>\n",
       "      <td>men</td>\n",
       "      <td>apparel</td>\n",
       "      <td>bottomwear</td>\n",
       "      <td>jeans</td>\n",
       "      <td>blue</td>\n",
       "      <td>summer</td>\n",
       "      <td>casual</td>\n",
       "      <td>peter england men party blue jeans peter engla...</td>\n",
       "    </tr>\n",
       "  </tbody>\n",
       "</table>\n",
       "<p>2 rows × 22 columns</p>\n",
       "</div>"
      ],
      "text/plain": [
       "      id gender masterCategory subCategory articleType baseColour  season  \\\n",
       "0  15970    Men        Apparel     Topwear      Shirts  Navy Blue    Fall   \n",
       "1  39386    Men        Apparel  Bottomwear       Jeans       Blue  Summer   \n",
       "\n",
       "     year   usage                  productDisplayName  ...  \\\n",
       "0  2011.0  Casual    Turtle Check Men Navy Blue Shirt  ...   \n",
       "1  2012.0  Casual  Peter England Men Party Blue Jeans  ...   \n",
       "\n",
       "                                           image_url  \\\n",
       "0  http://assets.myntassets.com/v1/images/style/p...   \n",
       "1  http://assets.myntassets.com/v1/images/style/p...   \n",
       "\n",
       "              productDisplayName_proc gender_proc masterCategory_proc  \\\n",
       "0    turtle check men navy blue shirt         men             apparel   \n",
       "1  peter england men party blue jeans         men             apparel   \n",
       "\n",
       "  subCategory_proc articleType_proc baseColour_proc season_proc usage_proc  \\\n",
       "0          topwear           shirts       navy blue        fall     casual   \n",
       "1       bottomwear            jeans            blue      summer     casual   \n",
       "\n",
       "                                            combined  \n",
       "0  turtle check men navy blue shirt turtle check ...  \n",
       "1  peter england men party blue jeans peter engla...  \n",
       "\n",
       "[2 rows x 22 columns]"
      ]
     },
     "execution_count": 4,
     "metadata": {},
     "output_type": "execute_result"
    }
   ],
   "source": [
    "# Weighted feature combination\n",
    "def build_weighted_text(row):\n",
    "    return (\n",
    "        (row['productDisplayName_proc'] + ' ') * 3 +\n",
    "        (row['articleType_proc'] + ' ') * 2 +\n",
    "        (row['baseColour_proc'] + ' ') * 2 +\n",
    "        (row['gender_proc'] + ' ') +\n",
    "        (row['masterCategory_proc'] + ' ') +\n",
    "        (row['subCategory_proc'] + ' ') +\n",
    "        (row['season_proc'] + ' ') +\n",
    "        (row['usage_proc'] + ' ')\n",
    "    ).strip()\n",
    "df['combined'] = df.apply(build_weighted_text, axis=1)\n",
    "df.head(2)"
   ]
  },
  {
   "cell_type": "code",
   "execution_count": 5,
   "metadata": {},
   "outputs": [
    {
     "name": "stdout",
     "output_type": "stream",
     "text": [
      "TF-IDF shape: (44077, 5000)\n"
     ]
    }
   ],
   "source": [
    "# Advanced TF-IDF\n",
    "vectorizer = TfidfVectorizer(stop_words='english', max_features=5000, ngram_range=(1,2))\n",
    "tfidf_matrix = vectorizer.fit_transform(df['combined'])\n",
    "print('TF-IDF shape:', tfidf_matrix.shape)"
   ]
  },
  {
   "cell_type": "code",
   "execution_count": 6,
   "metadata": {},
   "outputs": [
    {
     "name": "stdout",
     "output_type": "stream",
     "text": [
      "Reduced matrix shape: (44077, 200)\n"
     ]
    }
   ],
   "source": [
    "# Dimensionality reduction\n",
    "svd = TruncatedSVD(n_components=200, random_state=42)\n",
    "reduced_matrix = svd.fit_transform(tfidf_matrix)\n",
    "print('Reduced matrix shape:', reduced_matrix.shape)"
   ]
  },
  {
   "cell_type": "code",
   "execution_count": 15,
   "metadata": {},
   "outputs": [],
   "source": [
    "def smart_filter(df, product):\n",
    "    filtered = df[(df['gender'] == product['gender']) & (df['articleType'] == product['articleType'])]\n",
    "    if len(filtered) < 5:\n",
    "        filtered = df[df['gender'] == product['gender']]\n",
    "    return filtered\n",
    "\n",
    "def extract_gender_and_type(query):\n",
    "    query = query.lower()\n",
    "    gender = None\n",
    "    for g in ['men', 'women', 'boys', 'girls', 'unisex']:\n",
    "        if g in query:\n",
    "            gender = g.capitalize()\n",
    "            break\n",
    "    article_type = None\n",
    "    for at in df['articleType_proc'].unique():\n",
    "        if at in query:\n",
    "            article_type = at\n",
    "            break\n",
    "    return gender, article_type\n",
    "\n",
    "def find_product(name):\n",
    "    name_proc = preprocess_text(name)\n",
    "    gender, article_type = extract_gender_and_type(name_proc)\n",
    "    filtered = df\n",
    "    if gender:\n",
    "        filtered = filtered[filtered['gender'].str.lower() == gender.lower()]\n",
    "    if article_type:\n",
    "        filtered = filtered[filtered['articleType_proc'] == article_type]\n",
    "    match = filtered[filtered['productDisplayName_proc'].str.contains(name_proc)]\n",
    "    if not match.empty:\n",
    "        return match.iloc[0]\n",
    "    name_words = set(name_proc.split())\n",
    "    best_score = 0\n",
    "    best_row = None\n",
    "    for _, row in filtered.iterrows():\n",
    "        prod_words = set(row['productDisplayName_proc'].split())\n",
    "        score = len(name_words & prod_words) / max(1, len(name_words | prod_words))\n",
    "        if score > best_score:\n",
    "            best_score = score\n",
    "            best_row = row\n",
    "    if best_score > 0.3:\n",
    "        return best_row\n",
    "    return None\n",
    "\n",
    "def recommend(query, top_n=5):\n",
    "    # Preprocess query\n",
    "    query_proc = preprocess_text(query)\n",
    "    # Extract gender and articleType from query\n",
    "    gender = None\n",
    "    for g in ['men', 'women', 'boys', 'girls', 'unisex']:\n",
    "        if g in query_proc:\n",
    "            gender = g.capitalize()\n",
    "            break\n",
    "    article_type = None\n",
    "    for at in df['articleType_proc'].unique():\n",
    "        if at in query_proc:\n",
    "            article_type = at\n",
    "            break\n",
    "\n",
    "    # Strictly filter by gender and articleType\n",
    "    filtered = df.copy()\n",
    "    if gender:\n",
    "        filtered = filtered[filtered['gender'].str.lower() == gender.lower()]\n",
    "    if article_type:\n",
    "        filtered = filtered[filtered['articleType_proc'] == article_type]\n",
    "\n",
    "    if len(filtered) == 0:\n",
    "        print(\"❌ No products found for your query.\")\n",
    "        return None\n",
    "\n",
    "    # Fuzzy match for product name in filtered set\n",
    "    match = filtered[filtered['productDisplayName_proc'].str.contains(query_proc)]\n",
    "    if not match.empty:\n",
    "        product = match.iloc[0]\n",
    "    else:\n",
    "        # Fallback: just use the first in filtered\n",
    "        product = filtered.iloc[0]\n",
    "\n",
    "    # Recommendation logic\n",
    "    idx = filtered.index.get_loc(product.name)\n",
    "    filtered_idx = filtered.index.tolist()\n",
    "    product_vec = reduced_matrix[product.name].reshape(1, -1)\n",
    "    filtered_vecs = reduced_matrix[filtered_idx]\n",
    "    sims = cosine_similarity(product_vec, filtered_vecs).flatten()\n",
    "    top_idx = sims.argsort()[-top_n-1:-1][::-1]\n",
    "    results = filtered.iloc[top_idx]\n",
    "    for _, row in results.iterrows():\n",
    "        print(f\"\\n🛍️ {row['productDisplayName']} ({row['articleType']} - {row['baseColour']})\")\n",
    "        display(Image(url=row['image_url'], width=200))\n",
    "    return results[['productDisplayName', 'articleType', 'baseColour', 'image_url']]"
   ]
  },
  {
   "cell_type": "code",
   "execution_count": null,
   "metadata": {},
   "outputs": [],
   "source": []
  },
  {
   "cell_type": "code",
   "execution_count": null,
   "metadata": {},
   "outputs": [],
   "source": []
  },
  {
   "cell_type": "code",
   "execution_count": 22,
   "metadata": {},
   "outputs": [
    {
     "name": "stdout",
     "output_type": "stream",
     "text": [
      "\n",
      "🛍️ Peter England Men Blue Jeans (Jeans - Blue)\n"
     ]
    },
    {
     "data": {
      "text/html": [
       "<img src=\"http://assets.myntassets.com/v1/images/style/properties/Peter-England-Men-Blue-Jeans_f1df5d81d7a82784ba722b43d805a465_images.jpg\" width=\"200\"/>"
      ],
      "text/plain": [
       "<IPython.core.display.Image object>"
      ]
     },
     "metadata": {},
     "output_type": "display_data"
    },
    {
     "name": "stdout",
     "output_type": "stream",
     "text": [
      "\n",
      "🛍️ Peter England Men Blue Jeans (Jeans - Blue)\n"
     ]
    },
    {
     "data": {
      "text/html": [
       "<img src=\"http://assets.myntassets.com/v1/images/style/properties/97cc44ded3bcc275ce99546963a9dd3c_images.jpg\" width=\"200\"/>"
      ],
      "text/plain": [
       "<IPython.core.display.Image object>"
      ]
     },
     "metadata": {},
     "output_type": "display_data"
    },
    {
     "name": "stdout",
     "output_type": "stream",
     "text": [
      "\n",
      "🛍️ Peter England Men Blue Jeans (Jeans - Blue)\n"
     ]
    },
    {
     "data": {
      "text/html": [
       "<img src=\"http://assets.myntassets.com/v1/images/style/properties/Peter-England-Men-Blue-Jeans_c9339c668f21e00b5c0d02eb76f14cc7_images.jpg\" width=\"200\"/>"
      ],
      "text/plain": [
       "<IPython.core.display.Image object>"
      ]
     },
     "metadata": {},
     "output_type": "display_data"
    },
    {
     "name": "stdout",
     "output_type": "stream",
     "text": [
      "\n",
      "🛍️ Peter England Men Blue Jeans (Jeans - Blue)\n"
     ]
    },
    {
     "data": {
      "text/html": [
       "<img src=\"http://assets.myntassets.com/v1/images/style/properties/Peter-England-Men-Blue-Jeans_ffa64008b4811494f6e38a1dc13cc2db_images.jpg\" width=\"200\"/>"
      ],
      "text/plain": [
       "<IPython.core.display.Image object>"
      ]
     },
     "metadata": {},
     "output_type": "display_data"
    },
    {
     "name": "stdout",
     "output_type": "stream",
     "text": [
      "\n",
      "🛍️ Peter England Men Blue Jeans (Jeans - Blue)\n"
     ]
    },
    {
     "data": {
      "text/html": [
       "<img src=\"http://assets.myntassets.com/v1/images/style/properties/73b505dcb9480fdc828cda1e535ce426_images.jpg\" width=\"200\"/>"
      ],
      "text/plain": [
       "<IPython.core.display.Image object>"
      ]
     },
     "metadata": {},
     "output_type": "display_data"
    },
    {
     "data": {
      "text/html": [
       "<div>\n",
       "<style scoped>\n",
       "    .dataframe tbody tr th:only-of-type {\n",
       "        vertical-align: middle;\n",
       "    }\n",
       "\n",
       "    .dataframe tbody tr th {\n",
       "        vertical-align: top;\n",
       "    }\n",
       "\n",
       "    .dataframe thead th {\n",
       "        text-align: right;\n",
       "    }\n",
       "</style>\n",
       "<table border=\"1\" class=\"dataframe\">\n",
       "  <thead>\n",
       "    <tr style=\"text-align: right;\">\n",
       "      <th></th>\n",
       "      <th>productDisplayName</th>\n",
       "      <th>articleType</th>\n",
       "      <th>baseColour</th>\n",
       "      <th>image_url</th>\n",
       "    </tr>\n",
       "  </thead>\n",
       "  <tbody>\n",
       "    <tr>\n",
       "      <th>21082</th>\n",
       "      <td>Peter England Men Blue Jeans</td>\n",
       "      <td>Jeans</td>\n",
       "      <td>Blue</td>\n",
       "      <td>http://assets.myntassets.com/v1/images/style/p...</td>\n",
       "    </tr>\n",
       "    <tr>\n",
       "      <th>30687</th>\n",
       "      <td>Peter England Men Blue Jeans</td>\n",
       "      <td>Jeans</td>\n",
       "      <td>Blue</td>\n",
       "      <td>http://assets.myntassets.com/v1/images/style/p...</td>\n",
       "    </tr>\n",
       "    <tr>\n",
       "      <th>29627</th>\n",
       "      <td>Peter England Men Blue Jeans</td>\n",
       "      <td>Jeans</td>\n",
       "      <td>Blue</td>\n",
       "      <td>http://assets.myntassets.com/v1/images/style/p...</td>\n",
       "    </tr>\n",
       "    <tr>\n",
       "      <th>3858</th>\n",
       "      <td>Peter England Men Blue Jeans</td>\n",
       "      <td>Jeans</td>\n",
       "      <td>Blue</td>\n",
       "      <td>http://assets.myntassets.com/v1/images/style/p...</td>\n",
       "    </tr>\n",
       "    <tr>\n",
       "      <th>27814</th>\n",
       "      <td>Peter England Men Blue Jeans</td>\n",
       "      <td>Jeans</td>\n",
       "      <td>Blue</td>\n",
       "      <td>http://assets.myntassets.com/v1/images/style/p...</td>\n",
       "    </tr>\n",
       "  </tbody>\n",
       "</table>\n",
       "</div>"
      ],
      "text/plain": [
       "                 productDisplayName articleType baseColour  \\\n",
       "21082  Peter England Men Blue Jeans       Jeans       Blue   \n",
       "30687  Peter England Men Blue Jeans       Jeans       Blue   \n",
       "29627  Peter England Men Blue Jeans       Jeans       Blue   \n",
       "3858   Peter England Men Blue Jeans       Jeans       Blue   \n",
       "27814  Peter England Men Blue Jeans       Jeans       Blue   \n",
       "\n",
       "                                               image_url  \n",
       "21082  http://assets.myntassets.com/v1/images/style/p...  \n",
       "30687  http://assets.myntassets.com/v1/images/style/p...  \n",
       "29627  http://assets.myntassets.com/v1/images/style/p...  \n",
       "3858   http://assets.myntassets.com/v1/images/style/p...  \n",
       "27814  http://assets.myntassets.com/v1/images/style/p...  "
      ]
     },
     "execution_count": 22,
     "metadata": {},
     "output_type": "execute_result"
    }
   ],
   "source": [
    "# Example usage\n",
    "recommend('atx jeans', top_n=5)"
   ]
  },
  {
   "cell_type": "code",
   "execution_count": 23,
   "metadata": {},
   "outputs": [],
   "source": [
    "import pickle"
   ]
  },
  {
   "cell_type": "code",
   "execution_count": 24,
   "metadata": {},
   "outputs": [],
   "source": [
    "# Bundle all necessary objects into a dictionary\n",
    "model = {\n",
    "    'df': df,\n",
    "    'vectorizer': vectorizer,\n",
    "    'svd': svd,\n",
    "    'reduced_matrix': reduced_matrix\n",
    "}"
   ]
  },
  {
   "cell_type": "code",
   "execution_count": 25,
   "metadata": {},
   "outputs": [
    {
     "name": "stdout",
     "output_type": "stream",
     "text": [
      "✅ Model saved as recommendation_model.pkl\n"
     ]
    }
   ],
   "source": [
    "# Save to a .pkl file\n",
    "with open('recommendation_model.pkl', 'wb') as f:\n",
    "    pickle.dump(model, f)\n",
    "\n",
    "print(\"✅ Model saved as recommendation_model.pkl\")"
   ]
  },
  {
   "cell_type": "code",
   "execution_count": null,
   "metadata": {},
   "outputs": [],
   "source": []
  }
 ],
 "metadata": {
  "kernelspec": {
   "display_name": "Python 3 (ipykernel)",
   "language": "python",
   "name": "python3"
  },
  "language_info": {
   "codemirror_mode": {
    "name": "ipython",
    "version": 3
   },
   "file_extension": ".py",
   "mimetype": "text/x-python",
   "name": "python",
   "nbconvert_exporter": "python",
   "pygments_lexer": "ipython3",
   "version": "3.12.7"
  }
 },
 "nbformat": 4,
 "nbformat_minor": 4
}
